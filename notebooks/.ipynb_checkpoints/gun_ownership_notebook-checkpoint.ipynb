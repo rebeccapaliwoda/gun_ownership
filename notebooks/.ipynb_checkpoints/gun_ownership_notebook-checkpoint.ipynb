{
 "cells": [
  {
   "cell_type": "markdown",
   "metadata": {},
   "source": [
    "<h1>U.S. Gun Ownership Data Project</h1>\n",
    "This R project examined household gun ownership in the United States and if there was any benefit to having a gun within the home. "
   ]
  },
  {
   "cell_type": "markdown",
   "metadata": {
    "toc": true
   },
   "source": [
    "<h1>Table of Contents<span class=\"tocSkip\"></span></h1>\n",
    "<div class=\"toc\"><ul class=\"toc-item\"><li><span><a href=\"#Install-required-packages\" data-toc-modified-id=\"Install-required-packages-1\"><span class=\"toc-item-num\">1&nbsp;&nbsp;</span>Install required packages</a></span></li><li><span><a href=\"#Import-dataset-and-save-dataframe-as-csv\" data-toc-modified-id=\"Import-dataset-and-save-dataframe-as-csv-2\"><span class=\"toc-item-num\">2&nbsp;&nbsp;</span>Import dataset and save dataframe as csv</a></span></li><li><span><a href=\"#Create-gun-ownership-visualizations\" data-toc-modified-id=\"Create-gun-ownership-visualizations-3\"><span class=\"toc-item-num\">3&nbsp;&nbsp;</span>Create gun ownership visualizations</a></span></li></ul></div>"
   ]
  },
  {
   "cell_type": "markdown",
   "metadata": {},
   "source": [
    "## Install required packages\n",
    "\n",
    "This script installs the required R packages for this project.\n"
   ]
  },
  {
   "cell_type": "code",
   "execution_count": 6,
   "metadata": {
    "vscode": {
     "languageId": "r"
    }
   },
   "outputs": [],
   "source": [
    "# This script installs the packages required for this notebook\n",
    "\n",
    "source(\"../src/packages.r\")"
   ]
  },
  {
   "cell_type": "markdown",
   "metadata": {},
   "source": [
    "## Import dataset and save dataframe as csv\n",
    "\n",
    "The dataset for this project was downloaded from https://www.rand.org/content/dam/rand/pubs/tools/TL300/TL354/RAND_TL354.database.zip. The file was then cleaned and saved in csv format. This script reads the csv and creates a dataframe for further examination."
   ]
  },
  {
   "cell_type": "code",
   "execution_count": 10,
   "metadata": {
    "vscode": {
     "languageId": "r"
    }
   },
   "outputs": [],
   "source": [
    "# This script reads TL_354_State_Level_Estimates_of_Household_Firearm_Ownership.csv\n",
    "\n",
    "source(\"../src/data/create_df_rand.r\")"
   ]
  },
  {
   "cell_type": "markdown",
   "metadata": {},
   "source": [
    "## Create gun ownership visualizations"
   ]
  },
  {
   "cell_type": "code",
   "execution_count": 12,
   "metadata": {
    "vscode": {
     "languageId": "r"
    }
   },
   "outputs": [],
   "source": [
    "# This script creates the gun ownership visualizations. \n",
    "\n",
    "source(\"../src/visualization/gun_ownership.r\")\n"
   ]
  },
  {
   "cell_type": "code",
   "execution_count": null,
   "metadata": {
    "vscode": {
     "languageId": "r"
    }
   },
   "outputs": [],
   "source": []
  }
 ],
 "metadata": {
  "kernelspec": {
   "display_name": "R",
   "language": "R",
   "name": "ir"
  },
  "language_info": {
   "codemirror_mode": "r",
   "file_extension": ".r",
   "mimetype": "text/x-r-source",
   "name": "R",
   "pygments_lexer": "r",
   "version": "4.2.3"
  },
  "toc": {
   "base_numbering": 1,
   "nav_menu": {},
   "number_sections": true,
   "sideBar": true,
   "skip_h1_title": true,
   "title_cell": "Table of Contents",
   "title_sidebar": "Contents",
   "toc_cell": true,
   "toc_position": {
    "height": "calc(100% - 180px)",
    "left": "10px",
    "top": "150px",
    "width": "243.2px"
   },
   "toc_section_display": true,
   "toc_window_display": true
  }
 },
 "nbformat": 4,
 "nbformat_minor": 2
}
