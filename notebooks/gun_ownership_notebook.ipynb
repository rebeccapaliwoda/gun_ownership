{
 "cells": [
  {
   "cell_type": "markdown",
   "metadata": {},
   "source": [
    "**Table of contents**<a id='toc0_'></a>    \n",
    "- [U.S. Gun Ownership Data Project](#toc1_)    \n",
    "  - [Install required packages](#toc1_1_)    \n",
    "  - [Import gun ownership dataset and save dataframe as csv](#toc1_2_)    \n",
    "  - [Extract and prepare data necessary to create gun ownership visualization](#toc1_3_)    \n",
    "  - [Create gun ownership visualization](#toc1_4_)    \n",
    "  - [Import burglary dataset](#toc1_5_)    \n",
    "  - [Create visualization displaying U.S. home burglary rates](#toc1_6_)    \n",
    "  - [Create visualization comparing U.S. home gun ownership rate to home burglary rates.](#toc1_7_)    \n",
    "  - [Inspect Datasets containing information about Firearm Deaths Suicides](#toc1_8_)    \n",
    "\n",
    "<!-- vscode-jupyter-toc-config\n",
    "\tnumbering=false\n",
    "\tanchor=true\n",
    "\tflat=false\n",
    "\tminLevel=1\n",
    "\tmaxLevel=6\n",
    "\t/vscode-jupyter-toc-config -->\n",
    "<!-- THIS CELL WILL BE REPLACED ON TOC UPDATE. DO NOT WRITE YOUR TEXT IN THIS CELL -->"
   ]
  },
  {
   "cell_type": "markdown",
   "metadata": {},
   "source": [
    "# <a id='toc1_'></a>[U.S. Gun Ownership Data Project](#toc0_)\n",
    "This R project examined household gun ownership in the United States and if there was any benefit to having a gun within the home. "
   ]
  },
  {
   "cell_type": "markdown",
   "metadata": {},
   "source": [
    "## <a id='toc1_1_'></a>[Install required packages](#toc0_)\n",
    "\n",
    "This script installs the required R packages for this project which includes dplyr, and RCurl.\n"
   ]
  },
  {
   "cell_type": "code",
   "execution_count": 11,
   "metadata": {
    "vscode": {
     "languageId": "r"
    }
   },
   "outputs": [],
   "source": [
    "source(\"../src/packages.r\")"
   ]
  },
  {
   "cell_type": "markdown",
   "metadata": {},
   "source": [
    "## <a id='toc1_2_'></a>[Import gun ownership dataset and save dataframe as csv](#toc0_)\n",
    "\n",
    "The dataset for this project was downloaded from https://www.rand.org/content/dam/rand/pubs/tools/TL300/TL354/RAND_TL354.database.zip. The file was then cleaned and saved in csv format. This script reads the csv and creates a dataframe for further examination."
   ]
  },
  {
   "cell_type": "code",
   "execution_count": 12,
   "metadata": {
    "vscode": {
     "languageId": "r"
    }
   },
   "outputs": [
    {
     "name": "stdout",
     "output_type": "stream",
     "text": [
      "\n",
      "> data <- read.csv(\"../data/interim/TL_354_State_Level_Estimates_of_Household_Firearm_Ownership.csv\")\n",
      "\n",
      "> rand_df <- data %>% select(FIP, Year, STATE, HFR, \n",
      "+     Fem_FS_S, Male_FS_S)\n",
      "\n",
      "> write.csv(rand_df, \"../data/processed/rand_gun_ownership.csv\")\n"
     ]
    }
   ],
   "source": [
    "source(\"../src/data/create_df_rand.r\", echo = TRUE)"
   ]
  },
  {
   "cell_type": "markdown",
   "metadata": {},
   "source": [
    "## <a id='toc1_3_'></a>[Extract and prepare data necessary to create gun ownership visualization](#toc0_)\n"
   ]
  },
  {
   "cell_type": "code",
   "execution_count": 13,
   "metadata": {
    "vscode": {
     "languageId": "r"
    }
   },
   "outputs": [
    {
     "name": "stdout",
     "output_type": "stream",
     "text": [
      "\n",
      "> options(stringsAsFactors = FALSE)\n",
      "\n",
      "> hfr_per_year <- aggregate(rand_df$HFR, list(rand_df$Year), \n",
      "+     FUN = mean)\n",
      "\n",
      "> colnames(hfr_per_year) <- c(\"year\", \"hfr\")\n",
      "\n",
      "> hfr_per_year\n",
      "   year     hfr\n",
      "1  1980 0.50476\n",
      "2  1981 0.50164\n",
      "3  1982 0.51106\n",
      "4  1983 0.48700\n",
      "5  1984 0.50634\n",
      "6  1985 0.49472\n",
      "7  1986 0.48124\n",
      "8  1987 0.50138\n",
      "9  1988 0.50614\n",
      "10 1989 0.52068\n",
      "11 1990 0.50864\n",
      "12 1991 0.50644\n",
      "13 1992 0.49044\n",
      "14 1993 0.49478\n",
      "15 1994 0.47946\n",
      "16 1995 0.47674\n",
      "17 1996 0.45430\n",
      "18 1997 0.43372\n",
      "19 1998 0.43036\n",
      "20 1999 0.41604\n",
      "21 2000 0.42748\n",
      "22 2001 0.38746\n",
      "23 2002 0.39966\n",
      "24 2003 0.38286\n",
      "25 2004 0.39394\n",
      "26 2005 0.38722\n",
      "27 2006 0.37966\n",
      "28 2007 0.38172\n",
      "29 2008 0.38500\n",
      "30 2009 0.38506\n",
      "31 2010 0.37860\n",
      "32 2011 0.38540\n",
      "33 2012 0.40710\n",
      "34 2013 0.39012\n",
      "35 2014 0.37782\n",
      "36 2015 0.36512\n",
      "37 2016 0.39696\n"
     ]
    }
   ],
   "source": [
    "source(\"../src/data/gun_ownership.r\", echo = TRUE)"
   ]
  },
  {
   "cell_type": "markdown",
   "metadata": {},
   "source": [
    "## <a id='toc1_4_'></a>[Create gun ownership visualization](#toc0_)\n",
    "\n",
    "This code plots the gun ownership data and stylizes the plotted data."
   ]
  },
  {
   "cell_type": "code",
   "execution_count": 14,
   "metadata": {
    "vscode": {
     "languageId": "r"
    }
   },
   "outputs": [
    {
     "name": "stdout",
     "output_type": "stream",
     "text": [
      "\n",
      "> options(repr.plot.width = 9, repr.plot.height = 5)\n",
      "\n",
      "> ggplot(hfr_per_year, aes(year, hfr)) + geom_line(aes(color = (hfr))) + \n",
      "+     geom_point(aes(color = (hfr), size = 2)) + annotate(\"text\", \n",
      "+     x = .... [TRUNCATED] \n"
     ]
    },
    {
     "data": {
      "image/png": "[encoded data removed]",
      "text/plain": [
       "plot without title"
      ]
     },
     "metadata": {
      "image/png": {
       "height": 300,
       "width": 540
      }
     },
     "output_type": "display_data"
    }
   ],
   "source": [
    "source(\"../src/visualization/gun_ownership_plot.r\", echo = TRUE)"
   ]
  },
  {
   "cell_type": "markdown",
   "metadata": {},
   "source": [
    "## <a id='toc1_5_'></a>[Import burglary dataset](#toc0_)"
   ]
  },
  {
   "cell_type": "code",
   "execution_count": 15,
   "metadata": {
    "vscode": {
     "languageId": "r"
    }
   },
   "outputs": [
    {
     "name": "stdout",
     "output_type": "stream",
     "text": [
      "\n",
      "> prop_crime_data <- read.csv(\"../data/interim/rate_of_ property_victimizations_by_crime_type_1993_2021.csv\")\n",
      "\n",
      "> prop_crime_data <- prop_crime_data %>% select(year, \n",
      "+     crime_type, number, rate_per_1000_households)\n",
      "\n",
      "> write.csv(prop_crime_data, \"../data/processed/prop_crime.csv\")\n"
     ]
    }
   ],
   "source": [
    "source(\"../src/data/burglary.r\", echo = TRUE)"
   ]
  },
  {
   "cell_type": "markdown",
   "metadata": {},
   "source": [
    "## <a id='toc1_6_'></a>[Create visualization displaying U.S. home burglary rates](#toc0_)"
   ]
  },
  {
   "cell_type": "code",
   "execution_count": 16,
   "metadata": {
    "vscode": {
     "languageId": "r"
    }
   },
   "outputs": [
    {
     "name": "stdout",
     "output_type": "stream",
     "text": [
      "\n",
      "> burglary <- subset(prop_crime_data, crime_type == \n",
      "+     \"Burglary\" & year >= 1995 & year <= 2016)\n",
      "\n",
      "> burglary$rate_per_1000_households <- burglary$rate_per_1000_households/100\n",
      "\n",
      "> burglary\n",
      "   year crime_type    number rate_per_1000_households\n",
      "32 1995   Burglary 4,042,606                    0.398\n",
      "33 1996   Burglary 4,017,814                    0.391\n",
      "34 1997   Burglary 3,783,231                    0.364\n",
      "35 1998   Burglary 3,376,416                    0.321\n",
      "36 1999   Burglary 3,037,883                    0.283\n",
      "37 2000   Burglary 2,817,066                    0.260\n",
      "38 2001   Burglary 2,643,251                    0.241\n",
      "39 2002   Burglary 2,518,181                    0.228\n",
      "40 2003   Burglary 2,797,350                    0.245\n",
      "41 2004   Burglary 2,759,594                    0.238\n",
      "42 2005   Burglary 2,859,803                    0.244\n",
      "43 2006   Burglary 2,690,635                    0.228\n",
      "44 2007   Burglary 2,494,145                    0.209\n",
      "45 2008   Burglary 2,381,444                    0.197\n",
      "46 2009   Burglary 2,348,198                    0.192\n",
      "47 2010   Burglary 2,338,140                    0.190\n",
      "48 2011   Burglary 2,722,416                    0.221\n",
      "49 2012   Burglary 2,696,551                    0.214\n",
      "50 2013   Burglary 2,343,951                    0.184\n",
      "51 2014   Burglary 2,205,821                    0.170\n",
      "52 2015   Burglary 2,020,726                    0.153\n",
      "53 2016   Burglary 2,205,182                    0.165\n",
      "\n",
      "> ggplot(burglary, aes(year, rate_per_1000_households)) + \n",
      "+     geom_line(aes(color = rate_per_1000_households)) + geom_point(aes(color = rate_per_10 .... [TRUNCATED] \n"
     ]
    },
    {
     "data": {
      "image/png": "[encoded data removed]",
      "text/plain": [
       "plot without title"
      ]
     },
     "metadata": {
      "image/png": {
       "height": 300,
       "width": 540
      }
     },
     "output_type": "display_data"
    }
   ],
   "source": [
    "source(\"../src/visualization/burglary_plot.r\", echo = TRUE)"
   ]
  },
  {
   "cell_type": "markdown",
   "metadata": {},
   "source": [
    "## <a id='toc1_7_'></a>[Create visualization comparing U.S. home gun ownership rate to home burglary rates.](#toc0_)"
   ]
  },
  {
   "cell_type": "code",
   "execution_count": 17,
   "metadata": {
    "vscode": {
     "languageId": "r"
    }
   },
   "outputs": [
    {
     "name": "stdout",
     "output_type": "stream",
     "text": [
      "\n",
      "> gun_ownership <- subset(hfr_per_year, hfr & year >= \n",
      "+     1995 & year <= 2016)\n",
      "\n",
      "> cols <- c(\"#45495a\", \"#7581ad\")\n",
      "\n",
      "> ggplot() + geom_area(data = gun_ownership, aes(x = year, \n",
      "+     y = hfr, fill = \"#45495a\")) + geom_area(data = burglary, \n",
      "+     aes(x = year, y = ra .... [TRUNCATED] \n"
     ]
    },
    {
     "data": {
      "image/png": "[encoded data removed]",
      "text/plain": [
       "plot without title"
      ]
     },
     "metadata": {
      "image/png": {
       "height": 300,
       "width": 540
      }
     },
     "output_type": "display_data"
    }
   ],
   "source": [
    "source(\"../src/visualization/burglary_vs_gun_plot.r\", echo = TRUE)"
   ]
  },
  {
   "cell_type": "markdown",
   "metadata": {},
   "source": [
    "## <a id='toc1_8_'></a>[Inspect Datasets and Create Visualizations for Firearm Deaths Suicides](#toc0_)"
   ]
  },
  {
   "cell_type": "code",
   "execution_count": 18,
   "metadata": {
    "vscode": {
     "languageId": "r"
    }
   },
   "outputs": [
    {
     "name": "stdout",
     "output_type": "stream",
     "text": [
      "\n",
      "> homicide <- read.csv(file = \"../data/interim/cause_of_death_home_homicide_2000_2020.csv\")\n",
      "\n",
      "> suicide <- read.csv(file = \"../data/interim/cause_of_death_home_suicide_2000_2020.csv\")\n",
      "\n",
      "> hom <- ggplot() + geom_line(data = homicide, aes(year, \n",
      "+     h)) + labs(title = \"Homicide by Firearm\") + theme(axis.title.y = element_blank(), \n",
      "+   .... [TRUNCATED] \n",
      "\n",
      "> sui <- ggplot() + geom_line(data = suicide, aes(year, \n",
      "+     s)) + labs(title = \"Suicide by Firearm\") + theme(axis.title.y = element_blank(), \n",
      "+     .... [TRUNCATED] \n",
      "\n",
      "> ggarrange(hom, sui) + labs(title = \"2000-2020 Firearm Homicides & Suicides\", \n",
      "+     subtitle = \"Decedent's Home Location of Death\", caption = \"Sourc ...\" ... [TRUNCATED] \n"
     ]
    },
    {
     "data": {
      "image/png": "[encoded data removed]",
      "text/plain": [
       "plot without title"
      ]
     },
     "metadata": {
      "image/png": {
       "height": 300,
       "width": 540
      }
     },
     "output_type": "display_data"
    }
   ],
   "source": [
    "source(\"../src/visualization/homicide_vs_suicide_plots.r\", echo = TRUE)"
   ]
  }
 ],
 "metadata": {
  "kernelspec": {
   "display_name": "R",
   "language": "R",
   "name": "ir"
  },
  "language_info": {
   "codemirror_mode": "r",
   "file_extension": ".r",
   "mimetype": "text/x-r-source",
   "name": "R",
   "pygments_lexer": "r",
   "version": "4.2.3"
  },
  "toc": {
   "base_numbering": 1,
   "nav_menu": {},
   "number_sections": true,
   "sideBar": true,
   "skip_h1_title": true,
   "title_cell": "Table of Contents",
   "title_sidebar": "Contents",
   "toc_cell": true,
   "toc_position": {
    "height": "calc(100% - 180px)",
    "left": "10px",
    "top": "150px",
    "width": "243.2px"
   },
   "toc_section_display": true,
   "toc_window_display": true
  }
 },
 "nbformat": 4,
 "nbformat_minor": 2
}
